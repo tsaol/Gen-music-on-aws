{
 "cells": [
  {
   "cell_type": "code",
   "execution_count": null,
   "id": "b33c4e5d-9918-4391-bb13-df156aca8b22",
   "metadata": {},
   "outputs": [],
   "source": [
    "# Gen-music-on-sagemaker"
   ]
  },
  {
   "cell_type": "code",
   "execution_count": null,
   "id": "65c6f979-c61d-4a4a-ae23-d9712da5b427",
   "metadata": {},
   "outputs": [],
   "source": [
    "### instance type : g5.2xlarge - musicgen-large\n",
    "### instance type : xxx - musicgen-medium"
   ]
  },
  {
   "cell_type": "code",
   "execution_count": null,
   "id": "f1ab7e31-463c-463a-981f-53dbce166947",
   "metadata": {
    "tags": []
   },
   "outputs": [],
   "source": [
    "!pip install -U audiocraft  # stable release\n",
    "!pip install -U git+https://git@github.com/facebookresearch/audiocraft#egg=audiocraft  # bleeding edge"
   ]
  },
  {
   "cell_type": "code",
   "execution_count": null,
   "id": "b2d981ae-4041-407e-b13e-dbdd994657b0",
   "metadata": {
    "tags": []
   },
   "outputs": [],
   "source": [
    "conda install 'ffmpeg<5' -c  conda-forge"
   ]
  },
  {
   "cell_type": "code",
   "execution_count": null,
   "id": "86e26e68-58fb-456a-adc1-a8797194497a",
   "metadata": {
    "tags": []
   },
   "outputs": [],
   "source": [
    "from audiocraft.models import MusicGen\n",
    "from audiocraft.models import MultiBandDiffusion\n",
    "import torch\n",
    "USE_DIFFUSION_DECODER = False\n",
    "# Using small model, better results would be obtained with `medium` or `large`.\n",
    "model = MusicGen.get_pretrained('facebook/musicgen-large')\n",
    "if USE_DIFFUSION_DECODER:\n",
    "    mbd = MultiBandDiffusion.get_mbd_musicgen()"
   ]
  },
  {
   "cell_type": "code",
   "execution_count": null,
   "id": "c73098a9-ffd5-4c9a-a830-1a3bd85eb88d",
   "metadata": {
    "tags": []
   },
   "outputs": [],
   "source": [
    "model.set_generation_params(\n",
    "    use_sampling=True,\n",
    "    top_k=250,\n",
    "    duration=30\n",
    ")"
   ]
  },
  {
   "cell_type": "code",
   "execution_count": null,
   "id": "512ed0cd-4740-4dd0-8f75-237cace5416c",
   "metadata": {
    "tags": []
   },
   "outputs": [],
   "source": [
    "import math\n",
    "import torchaudio\n",
    "import torch\n",
    "from audiocraft.utils.notebook import display_audio\n",
    "\n",
    "def get_bip_bip(bip_duration=0.125, frequency=440,\n",
    "                duration=0.5, sample_rate=32000, device=\"cuda\"):\n",
    "    \"\"\"Generates a series of bip bip at the given frequency.\"\"\"\n",
    "    t = torch.arange(\n",
    "        int(duration * sample_rate), device=\"cuda\", dtype=torch.float) / sample_rate\n",
    "    wav = torch.cos(2 * math.pi * 440 * t)[None]\n",
    "    tp = (t % (2 * bip_duration)) / (2 * bip_duration)\n",
    "    envelope = (tp >= 0.5).float()\n",
    "    return wav * envelope"
   ]
  },
  {
   "cell_type": "code",
   "execution_count": null,
   "id": "60b8adcf-fa7d-4f4a-930f-551332c66d5c",
   "metadata": {
    "tags": []
   },
   "outputs": [],
   "source": [
    "res = model.generate_continuation(\n",
    "    get_bip_bip(0.125).expand(2, -1, -1), \n",
    "    32000, ['Jazz jazz and only jazz', '80s Country Background Music'],\n",
    "    progress=True)\n",
    "display_audio(res, 32000)"
   ]
  }
 ],
 "metadata": {
  "kernelspec": {
   "display_name": "conda_python3",
   "language": "python",
   "name": "conda_python3"
  },
  "language_info": {
   "codemirror_mode": {
    "name": "ipython",
    "version": 3
   },
   "file_extension": ".py",
   "mimetype": "text/x-python",
   "name": "python",
   "nbconvert_exporter": "python",
   "pygments_lexer": "ipython3",
   "version": "3.10.10"
  }
 },
 "nbformat": 4,
 "nbformat_minor": 5
}
